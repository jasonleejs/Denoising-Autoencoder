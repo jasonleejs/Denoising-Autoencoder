{
 "cells": [
  {
   "cell_type": "code",
   "execution_count": 9,
   "metadata": {},
   "outputs": [],
   "source": [
    "import random\n",
    "import matplotlib.pyplot as plt\n",
    "import matplotlib.colors as mcolors\n",
    "import numpy as np\n",
    "\n",
    "import torch\n",
    "import torch.nn as nn\n",
    "from torch.utils.data import DataLoader, Dataset, random_split\n",
    "import torchvision\n",
    "\n",
    "from tqdm import tqdm\n",
    "\n",
    "device = 'cuda' if torch.cuda.is_available() else 'cpu'"
   ]
  },
  {
   "cell_type": "markdown",
   "metadata": {},
   "source": [
    "## Loading the EMNIST Dataset"
   ]
  },
  {
   "cell_type": "code",
   "execution_count": 4,
   "metadata": {},
   "outputs": [],
   "source": [
    "# You can change img_size to 14 if you want to use smaller (14x14) images.\n",
    "img_size = 28\n",
    "ds = torchvision.datasets.EMNIST('../data/', train=True, download=True, split='balanced',\n",
    "                                      transform=torchvision.transforms.Compose([\n",
    "                                          torchvision.transforms.Resize((img_size,img_size)),\n",
    "                                          torchvision.transforms.ToTensor(), # creating tensors\n",
    "                                          torchvision.transforms.Lambda(lambda x: x.transpose(1, 2)),\n",
    "                                          torchvision.transforms.Lambda((lambda x: torch.flatten(x).to(device))), # Tensor([784])\n",
    "                            ]))\n",
    "label_mapping = ds.class_to_idx"
   ]
  },
  {
   "cell_type": "code",
   "execution_count": 7,
   "metadata": {},
   "outputs": [],
   "source": [
    "# Useful Functions\n",
    "def convert_c2i(c, label_mapping=label_mapping):\n",
    "    return label_mapping[c]\n",
    "\n",
    "def convert_i2c(i, label_mapping=label_mapping):\n",
    "    idx_to_char = {i: c for c, i in label_mapping.items()}\n",
    "    return idx_to_char[i]\n",
    "\n",
    "def draw(x, title=None, mask_value=-1.0):\n",
    "    \"\"\"\n",
    "    Visualize a 28x28 grayscale image, but show masked pixels (e.g. value = -1) in green.\n",
    "    \"\"\"\n",
    "    if isinstance(x, torch.Tensor):\n",
    "        x = x.detach().cpu()\n",
    "        if x.ndim == 1:\n",
    "            x = x.numpy().reshape((28, 28))\n",
    "        if x.ndim == 3 and x.shape[0] == 1:\n",
    "            x = x.squeeze(0)  # (1, 28, 28) → (28, 28)\n",
    "    \n",
    "    # Create an RGB image\n",
    "    img_rgb = np.zeros((*x.shape, 3))  # shape: (28, 28, 3)\n",
    "\n",
    "    # Map grayscale pixels to RGB\n",
    "    for i in range(3):  # R, G, B\n",
    "        img_rgb[:, :, i] = np.clip(x, 0, 1)\n",
    "\n",
    "    # Override green channel for masked pixels (value == mask_value)\n",
    "    mask = x == mask_value\n",
    "    img_rgb[mask] = [0.0, 1.0, 0.0]  # Green\n",
    "\n",
    "    plt.imshow(img_rgb)\n",
    "    if title:\n",
    "        plt.title(title)\n",
    "    plt.axis('off')"
   ]
  },
  {
   "cell_type": "code",
   "execution_count": 10,
   "metadata": {},
   "outputs": [
    {
     "name": "stdout",
     "output_type": "stream",
     "text": [
      "x.shape: torch.Size([784])\n",
      "type(t): <class 'int'>\n"
     ]
    },
    {
     "data": {
      "image/png": "[encoded data removed]",
      "text/plain": [
       "<Figure size 640x480 with 2 Axes>"
      ]
     },
     "metadata": {},
     "output_type": "display_data"
    }
   ],
   "source": [
    "i, j = random.randint(0, 1024), random.randint(0, 1024)\n",
    "x1,t1 = ds.__getitem__(i)\n",
    "x2, t2 = ds.__getitem__(j)\n",
    "\n",
    "print(f\"x.shape: {x1.shape}\")\n",
    "print(f\"type(t): {type(t1)}\")\n",
    "\n",
    "plt.subplot(1, 2, 1)\n",
    "\n",
    "draw(x1, f\"target: {convert_i2c(t1)}\")\n",
    "\n",
    "plt.subplot(1, 2, 2)\n",
    "draw(x2, f\"target: {convert_i2c(t2)}\")\n",
    "plt.show()"
   ]
  },
  {
   "cell_type": "markdown",
   "metadata": {},
   "source": [
    "## Building the Masked Dataset"
   ]
  },
  {
   "cell_type": "code",
   "execution_count": 11,
   "metadata": {},
   "outputs": [],
   "source": [
    "class MaskedDataset(Dataset):\n",
    "    def __init__(self, ds, min_mask_ratio=0.1, max_mask_ratio=0.5, mask_value=-1):\n",
    "        \n",
    "        self.original_dataset = ds\n",
    "        self.min_mask_ratio = min_mask_ratio\n",
    "        self.max_mask_ratio = max_mask_ratio\n",
    "        self.mask_value = mask_value\n",
    "\n",
    "    def __len__(self):\n",
    "        return len(self.original_dataset)\n",
    "    \n",
    "    def __getitem__(self, idx):\n",
    "        x, t = self.original_dataset[idx]\n",
    "        mask_ratio = random.uniform(self.min_mask_ratio, self.max_mask_ratio)\n",
    "        mask = (torch.rand_like(x) > mask_ratio).float() # 0 to be masked\n",
    "        masked_x = x * mask + self.mask_value * (1 - mask)\n",
    "        \n",
    "        return masked_x, x, t"
   ]
  },
  {
   "cell_type": "code",
   "execution_count": 12,
   "metadata": {},
   "outputs": [
    {
     "name": "stdout",
     "output_type": "stream",
     "text": [
      "[NOTE]: Green pixels represent masked pixels\n",
      "\n",
      "x.shape: torch.Size([784])\n",
      "type(t): <class 'int'>\n"
     ]
    },
    {
     "data": {
      "image/png": "[encoded data removed]",
      "text/plain": [
       "<Figure size 640x480 with 2 Axes>"
      ]
     },
     "metadata": {},
     "output_type": "display_data"
    }
   ],
   "source": [
    "ds_masked = MaskedDataset(ds, min_mask_ratio=0.1, max_mask_ratio=0.5, mask_value=-1)\n",
    "\n",
    "i, j = random.randint(0, 1024), random.randint(0, 1024)\n",
    "x1, _, t1 = ds_masked.__getitem__(i)\n",
    "x2, _, t2 = ds_masked.__getitem__(j)\n",
    "\n",
    "print(\"[NOTE]: Green pixels represent masked pixels\\n\")\n",
    "\n",
    "print(f\"x.shape: {x1.shape}\")\n",
    "print(f\"type(t): {type(t1)}\")\n",
    "\n",
    "plt.subplot(1, 2, 1)\n",
    "\n",
    "draw(x1, f\"target: {convert_i2c(t1)}\")\n",
    "\n",
    "plt.subplot(1, 2, 2)\n",
    "draw(x2, f\"target: {convert_i2c(t2)}\")\n",
    "plt.show()"
   ]
  },
  {
   "cell_type": "markdown",
   "metadata": {},
   "source": [
    "# Implementing the Denoising Autoencoder Using PyTorch"
   ]
  },
  {
   "cell_type": "code",
   "execution_count": 13,
   "metadata": {},
   "outputs": [],
   "source": [
    "class DAE(nn.Module):\n",
    "    def __init__(self, in_dim=img_size**2, latent_dim=64, loss_fcn = nn.MSELoss()):\n",
    "        super().__init__()\n",
    "        self.in_dim = in_dim\n",
    "        self.latent_dim = latent_dim\n",
    "        self.loss_fcn = loss_fcn\n",
    "        self.losses = []\n",
    "        \n",
    "        self.encoder = nn.Sequential(\n",
    "            nn.Linear(in_dim, 256), nn.ReLU(),\n",
    "            nn.Linear(256, 128), nn.ReLU(),\n",
    "            nn.Linear(128, latent_dim), nn.ReLU()\n",
    "        )\n",
    "        \n",
    "        self.decoder = nn.Sequential(\n",
    "            nn.Linear(latent_dim, 128), nn.ReLU(),\n",
    "            nn.Linear(128, 256), nn.ReLU(),\n",
    "            nn.Linear(256, in_dim), nn.Sigmoid()\n",
    "        )\n",
    "        \n",
    "        \n",
    "    def forward(self, x): \n",
    "        \"\"\"\n",
    "        Forward pass through the DAE.\n",
    "        :param x: Input tensor of shape (batch_size, in_dim)\n",
    "        :return: Reconstructed output tensor of shape (batch_size, in_dim)\n",
    "        \"\"\"\n",
    "        z = self.encoder(x)\n",
    "        decoded = self.decoder(z)\n",
    "        return decoded\n",
    "    \n",
    "    def learn(self, dl, epochs=10, lr=0.001):\n",
    "        optim = torch.optim.Adam(self.parameters(), lr=lr)\n",
    "        for epoch in tqdm(range(epochs)):\n",
    "            total_loss = 0\n",
    "            for masked_batch, clean_batch, _ in dl:\n",
    "                y_batch = self.forward(masked_batch)\n",
    "                loss = self.loss_fcn(y_batch, clean_batch)\n",
    "                \n",
    "                optim.zero_grad()\n",
    "                loss.backward()\n",
    "                optim.step()\n",
    "                \n",
    "                # loss in the epoch\n",
    "                total_loss += loss.item()*len(masked_batch)\n",
    "            self.losses.append(total_loss / len(dl.dataset))\n",
    "        plt.plot(self.losses); plt.xlabel('Epochs');\n",
    "        plt.yscale('log');\n",
    "        \n",
    "        "
   ]
  },
  {
   "cell_type": "markdown",
   "metadata": {},
   "source": [
    "## Training the DAE on Masked Dataset"
   ]
  },
  {
   "cell_type": "code",
   "execution_count": 14,
   "metadata": {},
   "outputs": [],
   "source": [
    "# 90% train, 10% test\n",
    "train_size = int(0.9 * len(ds_masked))\n",
    "test_size = len(ds_masked) - train_size\n",
    "\n",
    "train_dataset, test_dataset = random_split(ds_masked, [train_size, test_size])"
   ]
  },
  {
   "cell_type": "code",
   "execution_count": 15,
   "metadata": {},
   "outputs": [],
   "source": [
    "batch_size = 128\n",
    "train_loader = DataLoader(train_dataset, batch_size=batch_size, shuffle=True)\n",
    "test_loader = DataLoader(test_dataset, batch_size=batch_size, shuffle=False)\n"
   ]
  },
  {
   "cell_type": "code",
   "execution_count": 35,
   "metadata": {},
   "outputs": [
    {
     "name": "stderr",
     "output_type": "stream",
     "text": [
      "100%|██████████| 10/10 [01:04<00:00,  6.47s/it]\n"
     ]
    },
    {
     "data": {
      "image/png": "[encoded data removed]",
      "text/plain": [
       "<Figure size 640x480 with 1 Axes>"
      ]
     },
     "metadata": {},
     "output_type": "display_data"
    }
   ],
   "source": [
    "dae = DAE(in_dim=img_size**2, latent_dim=64).to(device)\n",
    "dae.learn(train_loader, epochs=10, lr=0.01)\n"
   ]
  },
  {
   "cell_type": "code",
   "execution_count": null,
   "metadata": {},
   "outputs": [],
   "source": []
  },
  {
   "cell_type": "markdown",
   "metadata": {},
   "source": [
    "### Reconstructing Images using Trained Denoising Autoencoder"
   ]
  },
  {
   "cell_type": "code",
   "execution_count": 36,
   "metadata": {},
   "outputs": [
    {
     "data": {
      "image/png": "[encoded data removed]",
      "text/plain": [
       "<Figure size 640x480 with 3 Axes>"
      ]
     },
     "metadata": {},
     "output_type": "display_data"
    }
   ],
   "source": [
    "idx1 = random.randint(0, 3204)\n",
    "x1_masked, x1_clean, t1 = test_dataset.__getitem__(idx1)\n",
    "x1_unmasked = dae.forward(x1_masked)\n",
    "\n",
    "plt.subplot(1,3, 1)\n",
    "draw(x1_masked, f\"Masked Image\\n(target: {convert_i2c(t1)})\")\n",
    "plt.subplot(1,3, 2)\n",
    "draw(x1_unmasked, f\"Unmasked Image\\n(target: {convert_i2c(t1)})\")\n",
    "plt.subplot(1,3, 3)\n",
    "draw(x1_clean, f\"Original Imag\\n(target: {convert_i2c(t1)})\")"
   ]
  },
  {
   "cell_type": "code",
   "execution_count": 37,
   "metadata": {},
   "outputs": [
    {
     "data": {
      "image/png": "[encoded data removed]",
      "text/plain": [
       "<Figure size 640x480 with 3 Axes>"
      ]
     },
     "metadata": {},
     "output_type": "display_data"
    }
   ],
   "source": [
    "idx2 = random.randint(0, 3204)\n",
    "x2_masked, x2_clean, t2 = test_dataset.__getitem__(idx2)\n",
    "x2_unmasked = dae.forward(x2_masked)\n",
    "\n",
    "plt.subplot(1,3, 1)\n",
    "draw(x2_masked, f\"Masked Image\\n(target: {convert_i2c(t2)})\")\n",
    "plt.subplot(1,3, 2)\n",
    "draw(x2_unmasked, f\"Unmasked Image\\n(target: {convert_i2c(t2)})\")\n",
    "plt.subplot(1,3, 3)\n",
    "draw(x2_clean, f\"Original Imag\\n(target: {convert_i2c(t2)})\")"
   ]
  }
 ],
 "metadata": {
  "kernelspec": {
   "display_name": "base",
   "language": "python",
   "name": "python3"
  },
  "language_info": {
   "codemirror_mode": {
    "name": "ipython",
    "version": 3
   },
   "file_extension": ".py",
   "mimetype": "text/x-python",
   "name": "python",
   "nbconvert_exporter": "python",
   "pygments_lexer": "ipython3",
   "version": "3.12.7"
  }
 },
 "nbformat": 4,
 "nbformat_minor": 2
}
